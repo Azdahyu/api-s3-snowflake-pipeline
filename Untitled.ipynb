{
 "cells": [
  {
   "cell_type": "code",
   "execution_count": 9,
   "id": "bc8795e4-adc7-4488-bbf6-5dda7899a7ed",
   "metadata": {},
   "outputs": [
    {
     "name": "stdout",
     "output_type": "stream",
     "text": [
      "   productId  quantity id_cart userId                      date  \\\n",
      "0          1         4       1      1  2020-03-02T00:00:00.000Z   \n",
      "1          2         1       1      1  2020-03-02T00:00:00.000Z   \n",
      "2          3         6       1      1  2020-03-02T00:00:00.000Z   \n",
      "3          2         4       2      1  2020-01-02T00:00:00.000Z   \n",
      "4          1        10       2      1  2020-01-02T00:00:00.000Z   \n",
      "\n",
      "                                               title   price  \\\n",
      "0  Fjallraven - Foldsack No. 1 Backpack, Fits 15 ...  109.95   \n",
      "1             Mens Casual Premium Slim Fit T-Shirts    22.30   \n",
      "2                                 Mens Cotton Jacket   55.99   \n",
      "3             Mens Casual Premium Slim Fit T-Shirts    22.30   \n",
      "4  Fjallraven - Foldsack No. 1 Backpack, Fits 15 ...  109.95   \n",
      "\n",
      "                                         description        category  \\\n",
      "0  Your perfect pack for everyday use and walks i...  men's clothing   \n",
      "1  Slim-fitting style, contrast raglan long sleev...  men's clothing   \n",
      "2  great outerwear jackets for Spring/Autumn/Wint...  men's clothing   \n",
      "3  Slim-fitting style, contrast raglan long sleev...  men's clothing   \n",
      "4  Your perfect pack for everyday use and walks i...  men's clothing   \n",
      "\n",
      "                                               image  rating_rate  \\\n",
      "0  https://fakestoreapi.com/img/81fPKd-2AYL._AC_S...          3.9   \n",
      "1  https://fakestoreapi.com/img/71-3HjGNDUL._AC_S...          4.1   \n",
      "2  https://fakestoreapi.com/img/71li-ujtlUL._AC_U...          4.7   \n",
      "3  https://fakestoreapi.com/img/71-3HjGNDUL._AC_S...          4.1   \n",
      "4  https://fakestoreapi.com/img/81fPKd-2AYL._AC_S...          3.9   \n",
      "\n",
      "   rating_count  \n",
      "0           120  \n",
      "1           259  \n",
      "2           500  \n",
      "3           259  \n",
      "4           120  \n"
     ]
    }
   ],
   "source": [
    "import requests\n",
    "import pandas as pd\n",
    "from utils.config_loader import load_config\n",
    "\n",
    "\n",
    "def fetch_carts_data(api_url: str) -> pd.DataFrame:\n",
    "    \"\"\"\n",
    "    Fetch carts data from an API and return it as a pandas DataFrame.\n",
    "    \"\"\"\n",
    "    response = requests.get(api_url)\n",
    "    response.raise_for_status()\n",
    "    data = response.json()\n",
    "    carts_df = pd.json_normalize(\n",
    "        data,\n",
    "        record_path=[\"products\"],\n",
    "        meta=[\"id\", \"userId\", \"date\"]\n",
    "    )\n",
    "    return carts_df\n",
    "\n",
    "\n",
    "def fetch_products_data(api_url: str) -> pd.DataFrame:\n",
    "    \"\"\"\n",
    "    Fetch products data from an API and return it as a pandas DataFrame.\n",
    "    \"\"\"\n",
    "    response = requests.get(api_url)\n",
    "    response.raise_for_status()\n",
    "    data = response.json()\n",
    "    products_df = pd.json_normalize(data)\n",
    "    return products_df\n",
    "\n",
    "\n",
    "def merge_carts_products(carts_df: pd.DataFrame, products_df: pd.DataFrame) -> pd.DataFrame:\n",
    "    \"\"\"\n",
    "    Merge carts and products data on productId.\n",
    "    \"\"\"\n",
    "    merged_df = carts_df.merge(\n",
    "        products_df,\n",
    "        left_on=\"productId\",\n",
    "        right_on=\"id\",\n",
    "        suffixes=(\"_cart\", \"_product\")\n",
    "    ).drop(columns=[\"id_product\"])\n",
    "    \n",
    "    # Rename nested JSON fields for Snowflake compatibility\n",
    "    merged_df.columns = merged_df.columns.str.replace(r\"\\.\", \"_\", regex=True)\n",
    "    \n",
    "    return merged_df\n",
    "\n",
    "if __name__ == \"__main__\":\n",
    "    # Load config (expects carts_url and products_url)\n",
    "    config = load_config()\n",
    "\n",
    "    carts_url = config[\"api\"][\"carts_url\"]\n",
    "    products_url = config[\"api\"][\"products_url\"]\n",
    "\n",
    "    # Fetch data\n",
    "    carts_df = fetch_carts_data(carts_url)\n",
    "    products_df = fetch_products_data(products_url)\n",
    "\n",
    "    # Merge\n",
    "    merged_df = merge_carts_products(carts_df, products_df)\n",
    "\n",
    "    print(merged_df.head())"
   ]
  },
  {
   "cell_type": "code",
   "execution_count": 5,
   "id": "1929667e-f343-4e96-895d-9f0a94e48a29",
   "metadata": {},
   "outputs": [
    {
     "data": {
      "text/plain": [
       "productId         int64\n",
       "quantity          int64\n",
       "id_cart          object\n",
       "userId           object\n",
       "date             object\n",
       "title            object\n",
       "price           float64\n",
       "description      object\n",
       "category         object\n",
       "image            object\n",
       "rating.rate     float64\n",
       "rating.count      int64\n",
       "dtype: object"
      ]
     },
     "execution_count": 5,
     "metadata": {},
     "output_type": "execute_result"
    }
   ],
   "source": [
    "merged_df.dtypes"
   ]
  },
  {
   "cell_type": "code",
   "execution_count": null,
   "id": "f4a9a5c2-ecc9-414b-a529-baadbe40ac49",
   "metadata": {},
   "outputs": [],
   "source": []
  }
 ],
 "metadata": {
  "kernelspec": {
   "display_name": "Python 3 (ipykernel)",
   "language": "python",
   "name": "python3"
  },
  "language_info": {
   "codemirror_mode": {
    "name": "ipython",
    "version": 3
   },
   "file_extension": ".py",
   "mimetype": "text/x-python",
   "name": "python",
   "nbconvert_exporter": "python",
   "pygments_lexer": "ipython3",
   "version": "3.12.5"
  }
 },
 "nbformat": 4,
 "nbformat_minor": 5
}
